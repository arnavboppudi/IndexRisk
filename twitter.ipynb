{
 "cells": [
  {
   "cell_type": "code",
   "execution_count": 8,
   "metadata": {},
   "outputs": [
    {
     "name": "stdout",
     "output_type": "stream",
     "text": [
      "No sentiment data available for VFIAX.\n",
      "No sentiment data available for VSMPX.\n",
      "No sentiment data available for AGTHX.\n",
      "Saved sentiment data to ./sentiment_data/OXY_sentiment_2024-08-25.csv\n",
      "Saved sentiment data to ./sentiment_data/XOM_sentiment_2024-08-25.csv\n",
      "Saved sentiment data to ./sentiment_data/VRTX_sentiment_2024-08-25.csv\n",
      "Saved sentiment data to ./sentiment_data/NVDA_sentiment_2024-08-25.csv\n",
      "Saved sentiment data to ./sentiment_data/GOOG_sentiment_2024-08-25.csv\n",
      "Saved sentiment data to ./sentiment_data/AMZN_sentiment_2024-08-25.csv\n"
     ]
    }
   ],
   "source": [
    "import requests\n",
    "import pandas as pd\n",
    "import os\n",
    "from datetime import datetime\n",
    "\n",
    "# Set your Alpha Vantage API key here\n",
    "API_KEY = 'MMK7S1NB70W7U85D'\n",
    "\n",
    "# Function to get sentiment data for a specific stock\n",
    "def get_sentiment_data(symbol):\n",
    "    url = f'https://www.alphavantage.co/query?function=NEWS_SENTIMENT&tickers={symbol}&apikey={API_KEY}'\n",
    "    response = requests.get(url)\n",
    "    if response.status_code == 200:\n",
    "        data = response.json()\n",
    "        if 'feed' in data:\n",
    "            return data['feed']\n",
    "        else:\n",
    "            print(f\"No sentiment data available for {symbol}.\")\n",
    "            return []\n",
    "    else:\n",
    "        print(f\"Failed to fetch data for {symbol}. HTTP Status code: {response.status_code}\")\n",
    "        return []\n",
    "\n",
    "# Function to process sentiment data and save to CSV\n",
    "def save_sentiment_to_csv(symbol, sentiment_data, directory='./sentiment_data/'):\n",
    "    if not sentiment_data:\n",
    "        return\n",
    "    \n",
    "    # Create the directory if it doesn't exist\n",
    "    if not os.path.exists(directory):\n",
    "        os.makedirs(directory)\n",
    "\n",
    "    # Extract relevant information from the sentiment data\n",
    "    processed_data = []\n",
    "    for item in sentiment_data:\n",
    "        processed_data.append({\n",
    "            'symbol': symbol,\n",
    "            'title': item.get('title', ''),\n",
    "            'summary': item.get('summary', ''),\n",
    "            'url': item.get('url', ''),\n",
    "            'time_published': item.get('time_published', ''),\n",
    "            'sentiment_score': item.get('overall_sentiment_score', ''),\n",
    "            'source': item.get('source', '')\n",
    "        })\n",
    "\n",
    "    # Convert to DataFrame\n",
    "    df = pd.DataFrame(processed_data)\n",
    "\n",
    "    # Create a filename based on the symbol and current date\n",
    "    filename = f\"{directory}{symbol}_sentiment_{datetime.now().strftime('%Y-%m-%d')}.csv\"\n",
    "    \n",
    "    # Save DataFrame to CSV\n",
    "    df.to_csv(filename, index=False)\n",
    "    print(f\"Saved sentiment data to {filename}\")\n",
    "\n",
    "# List of stock symbols to fetch sentiment data for\n",
    "symbols = ['VFIAX', 'VSMPX', 'AGTHX', 'OXY', 'XOM', 'VRTX', 'NVDA', 'GOOG', 'AMZN']\n",
    "\n",
    "# Fetch and save sentiment data for each symbol\n",
    "for symbol in symbols:\n",
    "    sentiment_data = get_sentiment_data(symbol)\n",
    "    save_sentiment_to_csv(symbol, sentiment_data)"
   ]
  }
 ],
 "metadata": {
  "kernelspec": {
   "display_name": "myenv",
   "language": "python",
   "name": "python3"
  },
  "language_info": {
   "codemirror_mode": {
    "name": "ipython",
    "version": 3
   },
   "file_extension": ".py",
   "mimetype": "text/x-python",
   "name": "python",
   "nbconvert_exporter": "python",
   "pygments_lexer": "ipython3",
   "version": "3.9.17"
  },
  "orig_nbformat": 4
 },
 "nbformat": 4,
 "nbformat_minor": 2
}
